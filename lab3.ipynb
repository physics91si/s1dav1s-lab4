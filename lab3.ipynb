{
 "cells": [
  {
   "cell_type": "markdown",
   "metadata": {},
   "source": [
    "Physics 91SI\n",
    "\n",
    "Spring 2015\n",
    "\n",
    "# Lab 3\n",
    "\n",
    "## Part 1"
   ]
  },
  {
   "cell_type": "code",
   "execution_count": 29,
   "metadata": {
    "collapsed": false,
    "scrolled": false
   },
   "outputs": [],
   "source": [
    "# Don't edit this function\n",
    "def load_sample():\n",
    "    \"\"\"Return the entire text of Hamlet in a string.\"\"\"\n",
    "    with open('hamlet.txt') as f:\n",
    "        sample = f.read()\n",
    "    return sample\n"
   ]
  },
  {
   "cell_type": "code",
   "execution_count": null,
   "metadata": {
    "collapsed": false
   },
   "outputs": [],
   "source": [
    "# Edit this function. \"pass\" tells Python to do nothing.\n",
    "def load_sample():\n",
    "    \"\"\"Return the entire text of Hamlet in a string.\"\"\"\n",
    "    with open('hamlet.txt') as f:\n",
    "        sample = f.read()\n",
    "    return sample\n",
    "\n",
    "def delete_punct(list):\n",
    "    for i in range(0, len(list)):\n",
    "        if (list[i].isalpha()==False):\n",
    "            list[i]=list[i].replace(list[i], ' ')\n",
    "    return ''.join(list)\n",
    "\n",
    "def parse_sample(text, words_only):\n",
    "    if (words_only):\n",
    "        text=text.lower()\n",
    "    text=delete_punct(list(text))\n",
    "    parsed = text.split(' ', 5590)\n",
    "    print parsed\n",
    "parse_sample(load_sample(), True) \n"
   ]
  },
  {
   "cell_type": "markdown",
   "metadata": {},
   "source": [
    "## Part 2"
   ]
  },
  {
   "cell_type": "code",
   "execution_count": 31,
   "metadata": {
    "collapsed": false
   },
   "outputs": [],
   "source": [
    "def count_freq(lst):\n",
    "    d={}\n",
    "    \n",
    "    \"\"\"Return a dict of word frequencies given a list of words.\n",
    "    \n",
    "    Arguments:\n",
    "    -- lst: a list of strings\n",
    "    \n",
    "    Returns:\n",
    "    -- freq_dict: a dictionary of word: frequency pairs. The keys are strings\n",
    "       containing the words, and the values are integers indicating how many\n",
    "       times each word appears.\n",
    "    \n",
    "    Example:\n",
    "    >>> count_freq(['time', 'after', 'time'])\n",
    "    {'time': 2, 'after': 1}\n",
    "    \"\"\"\n",
    "    pass\n",
    "\n",
    "def mean(lst):\n",
    "    sum=0\n",
    "    for i in range(0,len(lst)):\n",
    "        sum+=lst[i]\n",
    "    return sum/len(lst)\n",
    "\n",
    "def stdev(lst):\n",
    "    for i in range(0,len(lst)):\n",
    "        sigma = (lst[i]-mean(lst))*(lst[i]-mean(lst))\n",
    "    return sqrt(sigma/(len(lst)))\n",
    "def median(lst):\n",
    "    lst.sort()\n",
    "    if (len(lst)%2==0):\n",
    "        return lst[len(lst)]"
   ]
  },
  {
   "cell_type": "markdown",
   "metadata": {},
   "source": [
    "## Part 3"
   ]
  },
  {
   "cell_type": "code",
   "execution_count": null,
   "metadata": {
    "collapsed": true
   },
   "outputs": [],
   "source": [
    "def print_stats(lst):\n",
    "    print count_freq(lst)\n",
    "    print mean(lst)\n",
    "    print stdev(lst)\n",
    "    print median(lst)"
   ]
  }
 ],
 "metadata": {
  "kernelspec": {
   "display_name": "Python 2",
   "language": "python",
   "name": "python2"
  },
  "language_info": {
   "codemirror_mode": {
    "name": "ipython",
    "version": 2
   },
   "file_extension": ".py",
   "mimetype": "text/x-python",
   "name": "python",
   "nbconvert_exporter": "python",
   "pygments_lexer": "ipython2",
   "version": "2.7.11"
  }
 },
 "nbformat": 4,
 "nbformat_minor": 0
}
